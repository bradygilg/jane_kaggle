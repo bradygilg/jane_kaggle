{
 "cells": [
  {
   "cell_type": "code",
   "execution_count": 1,
   "id": "a66cdb31-3954-4a26-a2d5-8c405b6dcd99",
   "metadata": {},
   "outputs": [],
   "source": [
    "from os import makedirs, path\n",
    "import numpy as np\n",
    "import pandas as pd\n",
    "from tqdm import tqdm\n",
    "from gilg_utils.general import load_yaml\n",
    "from gilg_utils.models import LinearRegressor\n",
    "import glob\n",
    "import matplotlib.pyplot as plt"
   ]
  },
  {
   "cell_type": "code",
   "execution_count": 2,
   "id": "ef8ce573-6892-49c7-bcd6-3f026e2dd644",
   "metadata": {},
   "outputs": [
    {
     "data": {
      "text/plain": [
       "['../Data/Processed/Regressionalize.parquet',\n",
       " '../Data/Processed/Regressionalize_test.parquet',\n",
       " '../Data/Processed/Regressionalize_secondary_train.parquet',\n",
       " '../Data/Processed/Regressionalize_train.parquet']"
      ]
     },
     "execution_count": 2,
     "metadata": {},
     "output_type": "execute_result"
    }
   ],
   "source": [
    "glob.glob('../Data/Processed/Regressionalize*')"
   ]
  },
  {
   "cell_type": "code",
   "execution_count": 1,
   "id": "69d571f4-af83-48dc-8e06-72800406e37e",
   "metadata": {},
   "outputs": [
    {
     "name": "stdout",
     "output_type": "stream",
     "text": [
      "0\n",
      "1\n",
      "2\n",
      "3\n"
     ]
    }
   ],
   "source": [
    "for i in range(4):\n",
    "    print(i)"
   ]
  },
  {
   "cell_type": "code",
   "execution_count": null,
   "id": "c0199fc3-c9c2-43a2-a7e5-8a641680b39d",
   "metadata": {},
   "outputs": [],
   "source": [
    " --data-input ${root}/Data/Processed/${project_name}/${item.secondary_processor}_train.parquet\n",
    " --prediction-input ${root}/Data/Processed/Predictions/${project_name}/${item.processor}/${item.model}_secondary_forward.parquet"
   ]
  }
 ],
 "metadata": {
  "kernelspec": {
   "display_name": "Python 3 (ipykernel)",
   "language": "python",
   "name": "python3"
  },
  "language_info": {
   "codemirror_mode": {
    "name": "ipython",
    "version": 3
   },
   "file_extension": ".py",
   "mimetype": "text/x-python",
   "name": "python",
   "nbconvert_exporter": "python",
   "pygments_lexer": "ipython3",
   "version": "3.10.15"
  }
 },
 "nbformat": 4,
 "nbformat_minor": 5
}
